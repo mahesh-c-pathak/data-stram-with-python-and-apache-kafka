{
 "cells": [
  {
   "cell_type": "code",
   "execution_count": 1,
   "id": "2758edae-ec01-4c91-8750-277d47477aa8",
   "metadata": {
    "tags": []
   },
   "outputs": [],
   "source": [
    "import os\n",
    "os.environ['PYSPARK_SUBMIT_ARGS'] = '--packages org.apache.spark:spark-sql-kafka-0-10_2.12:3.3.1,org.apache.spark:spark-avro_2.12:3.3.1 pyspark-shell'"
   ]
  },
  {
   "cell_type": "code",
   "execution_count": 2,
   "id": "368bd95b-e1c9-41ce-b892-cc4679a9eda8",
   "metadata": {
    "tags": []
   },
   "outputs": [
    {
     "name": "stdout",
     "output_type": "stream",
     "text": [
      ":: loading settings :: url = jar:file:/usr/local/lib/python3.10/dist-packages/pyspark/jars/ivy-2.5.0.jar!/org/apache/ivy/core/settings/ivysettings.xml\n"
     ]
    },
    {
     "name": "stderr",
     "output_type": "stream",
     "text": [
      "Ivy Default Cache set to: /root/.ivy2/cache\n",
      "The jars for the packages stored in: /root/.ivy2/jars\n",
      "org.apache.spark#spark-sql-kafka-0-10_2.12 added as a dependency\n",
      "org.apache.spark#spark-avro_2.12 added as a dependency\n",
      ":: resolving dependencies :: org.apache.spark#spark-submit-parent-5323724d-b4cd-4491-b364-0f92c225b8d6;1.0\n",
      "\tconfs: [default]\n",
      "\tfound org.apache.spark#spark-sql-kafka-0-10_2.12;3.3.1 in central\n",
      "\tfound org.apache.spark#spark-token-provider-kafka-0-10_2.12;3.3.1 in central\n",
      "\tfound org.apache.kafka#kafka-clients;2.8.1 in central\n",
      "\tfound org.lz4#lz4-java;1.8.0 in central\n",
      "\tfound org.xerial.snappy#snappy-java;1.1.8.4 in central\n",
      "\tfound org.slf4j#slf4j-api;1.7.32 in central\n",
      "\tfound org.apache.hadoop#hadoop-client-runtime;3.3.2 in central\n",
      "\tfound org.spark-project.spark#unused;1.0.0 in central\n",
      "\tfound org.apache.hadoop#hadoop-client-api;3.3.2 in central\n",
      "\tfound commons-logging#commons-logging;1.1.3 in central\n",
      "\tfound com.google.code.findbugs#jsr305;3.0.0 in central\n",
      "\tfound org.apache.commons#commons-pool2;2.11.1 in central\n",
      "\tfound org.apache.spark#spark-avro_2.12;3.3.1 in central\n",
      "\tfound org.tukaani#xz;1.8 in central\n",
      "downloading https://repo1.maven.org/maven2/org/apache/spark/spark-sql-kafka-0-10_2.12/3.3.1/spark-sql-kafka-0-10_2.12-3.3.1.jar ...\n",
      "\t[SUCCESSFUL ] org.apache.spark#spark-sql-kafka-0-10_2.12;3.3.1!spark-sql-kafka-0-10_2.12.jar (762ms)\n",
      "downloading https://repo1.maven.org/maven2/org/apache/spark/spark-avro_2.12/3.3.1/spark-avro_2.12-3.3.1.jar ...\n",
      "\t[SUCCESSFUL ] org.apache.spark#spark-avro_2.12;3.3.1!spark-avro_2.12.jar (474ms)\n",
      "downloading https://repo1.maven.org/maven2/org/apache/spark/spark-token-provider-kafka-0-10_2.12/3.3.1/spark-token-provider-kafka-0-10_2.12-3.3.1.jar ...\n",
      "\t[SUCCESSFUL ] org.apache.spark#spark-token-provider-kafka-0-10_2.12;3.3.1!spark-token-provider-kafka-0-10_2.12.jar (453ms)\n",
      "downloading https://repo1.maven.org/maven2/org/apache/kafka/kafka-clients/2.8.1/kafka-clients-2.8.1.jar ...\n",
      "\t[SUCCESSFUL ] org.apache.kafka#kafka-clients;2.8.1!kafka-clients.jar (1114ms)\n",
      "downloading https://repo1.maven.org/maven2/com/google/code/findbugs/jsr305/3.0.0/jsr305-3.0.0.jar ...\n",
      "\t[SUCCESSFUL ] com.google.code.findbugs#jsr305;3.0.0!jsr305.jar (439ms)\n",
      "downloading https://repo1.maven.org/maven2/org/apache/commons/commons-pool2/2.11.1/commons-pool2-2.11.1.jar ...\n",
      "\t[SUCCESSFUL ] org.apache.commons#commons-pool2;2.11.1!commons-pool2.jar (457ms)\n",
      "downloading https://repo1.maven.org/maven2/org/spark-project/spark/unused/1.0.0/unused-1.0.0.jar ...\n",
      "\t[SUCCESSFUL ] org.spark-project.spark#unused;1.0.0!unused.jar (441ms)\n",
      "downloading https://repo1.maven.org/maven2/org/apache/hadoop/hadoop-client-runtime/3.3.2/hadoop-client-runtime-3.3.2.jar ...\n",
      "\t[SUCCESSFUL ] org.apache.hadoop#hadoop-client-runtime;3.3.2!hadoop-client-runtime.jar (2531ms)\n",
      "downloading https://repo1.maven.org/maven2/org/lz4/lz4-java/1.8.0/lz4-java-1.8.0.jar ...\n",
      "\t[SUCCESSFUL ] org.lz4#lz4-java;1.8.0!lz4-java.jar (455ms)\n",
      "downloading https://repo1.maven.org/maven2/org/xerial/snappy/snappy-java/1.1.8.4/snappy-java-1.1.8.4.jar ...\n",
      "\t[SUCCESSFUL ] org.xerial.snappy#snappy-java;1.1.8.4!snappy-java.jar(bundle) (474ms)\n",
      "downloading https://repo1.maven.org/maven2/org/slf4j/slf4j-api/1.7.32/slf4j-api-1.7.32.jar ...\n",
      "\t[SUCCESSFUL ] org.slf4j#slf4j-api;1.7.32!slf4j-api.jar (439ms)\n",
      "downloading https://repo1.maven.org/maven2/org/apache/hadoop/hadoop-client-api/3.3.2/hadoop-client-api-3.3.2.jar ...\n",
      "\t[SUCCESSFUL ] org.apache.hadoop#hadoop-client-api;3.3.2!hadoop-client-api.jar (1766ms)\n",
      "downloading https://repo1.maven.org/maven2/commons-logging/commons-logging/1.1.3/commons-logging-1.1.3.jar ...\n",
      "\t[SUCCESSFUL ] commons-logging#commons-logging;1.1.3!commons-logging.jar (439ms)\n",
      "downloading https://repo1.maven.org/maven2/org/tukaani/xz/1.8/xz-1.8.jar ...\n",
      "\t[SUCCESSFUL ] org.tukaani#xz;1.8!xz.jar (440ms)\n",
      ":: resolution report :: resolve 27648ms :: artifacts dl 10705ms\n",
      "\t:: modules in use:\n",
      "\tcom.google.code.findbugs#jsr305;3.0.0 from central in [default]\n",
      "\tcommons-logging#commons-logging;1.1.3 from central in [default]\n",
      "\torg.apache.commons#commons-pool2;2.11.1 from central in [default]\n",
      "\torg.apache.hadoop#hadoop-client-api;3.3.2 from central in [default]\n",
      "\torg.apache.hadoop#hadoop-client-runtime;3.3.2 from central in [default]\n",
      "\torg.apache.kafka#kafka-clients;2.8.1 from central in [default]\n",
      "\torg.apache.spark#spark-avro_2.12;3.3.1 from central in [default]\n",
      "\torg.apache.spark#spark-sql-kafka-0-10_2.12;3.3.1 from central in [default]\n",
      "\torg.apache.spark#spark-token-provider-kafka-0-10_2.12;3.3.1 from central in [default]\n",
      "\torg.lz4#lz4-java;1.8.0 from central in [default]\n",
      "\torg.slf4j#slf4j-api;1.7.32 from central in [default]\n",
      "\torg.spark-project.spark#unused;1.0.0 from central in [default]\n",
      "\torg.tukaani#xz;1.8 from central in [default]\n",
      "\torg.xerial.snappy#snappy-java;1.1.8.4 from central in [default]\n",
      "\t---------------------------------------------------------------------\n",
      "\t|                  |            modules            ||   artifacts   |\n",
      "\t|       conf       | number| search|dwnlded|evicted|| number|dwnlded|\n",
      "\t---------------------------------------------------------------------\n",
      "\t|      default     |   14  |   14  |   14  |   0   ||   14  |   14  |\n",
      "\t---------------------------------------------------------------------\n",
      ":: retrieving :: org.apache.spark#spark-submit-parent-5323724d-b4cd-4491-b364-0f92c225b8d6\n",
      "\tconfs: [default]\n",
      "\t14 artifacts copied, 0 already retrieved (56927kB/87ms)\n"
     ]
    },
    {
     "name": "stdout",
     "output_type": "stream",
     "text": [
      "24/02/21 10:14:59 WARN NativeCodeLoader: Unable to load native-hadoop library for your platform... using builtin-java classes where applicable\n"
     ]
    },
    {
     "name": "stderr",
     "output_type": "stream",
     "text": [
      "Setting default log level to \"WARN\".\n",
      "To adjust logging level use sc.setLogLevel(newLevel). For SparkR, use setLogLevel(newLevel).\n"
     ]
    }
   ],
   "source": [
    "from pyspark.sql import SparkSession\n",
    "import pyspark.sql.types as T\n",
    "import pyspark.sql.functions as F\n",
    "\n",
    "spark = SparkSession \\\n",
    "    .builder \\\n",
    "    .appName(\"Spark-Notebook\") \\\n",
    "    .getOrCreate()"
   ]
  },
  {
   "cell_type": "code",
   "execution_count": 3,
   "id": "8a553e89-49d1-47c4-a2f9-7e9db0a1d002",
   "metadata": {
    "tags": []
   },
   "outputs": [],
   "source": [
    "# default for startingOffsets is \"latest\"\n",
    "df_kafka_raw = spark \\\n",
    "    .readStream \\\n",
    "    .format(\"kafka\") \\\n",
    "    .option(\"kafka.bootstrap.servers\", \"localhost:9092,broker:29092\") \\\n",
    "    .option(\"subscribe\", \"quickstart-events\") \\\n",
    "    .option(\"startingOffsets\", \"earliest\") \\\n",
    "    .option(\"checkpointLocation\", \"checkpoint\") \\\n",
    "    .load()"
   ]
  },
  {
   "cell_type": "code",
   "execution_count": 4,
   "id": "b69e0cdf-46ae-4c33-9847-d480be2b4c76",
   "metadata": {
    "tags": []
   },
   "outputs": [
    {
     "name": "stdout",
     "output_type": "stream",
     "text": [
      "root\n",
      " |-- key: binary (nullable = true)\n",
      " |-- value: binary (nullable = true)\n",
      " |-- topic: string (nullable = true)\n",
      " |-- partition: integer (nullable = true)\n",
      " |-- offset: long (nullable = true)\n",
      " |-- timestamp: timestamp (nullable = true)\n",
      " |-- timestampType: integer (nullable = true)\n",
      "\n"
     ]
    }
   ],
   "source": [
    "df_kafka_raw.printSchema()"
   ]
  },
  {
   "cell_type": "code",
   "execution_count": 5,
   "id": "a4009246-b5ff-4cd3-a43c-b44f0dfb1dd8",
   "metadata": {
    "tags": []
   },
   "outputs": [],
   "source": [
    "#1.2 Encoded Kafka Stream\n",
    "\n",
    "df_kafka_encoded = df_kafka_raw.selectExpr(\"CAST(key AS STRING)\",\"CAST(value AS STRING)\")"
   ]
  },
  {
   "cell_type": "code",
   "execution_count": 6,
   "id": "404b7172-9fbc-497e-b674-d32d5ecbdd71",
   "metadata": {
    "tags": []
   },
   "outputs": [
    {
     "name": "stdout",
     "output_type": "stream",
     "text": [
      "root\n",
      " |-- key: string (nullable = true)\n",
      " |-- value: string (nullable = true)\n",
      "\n"
     ]
    }
   ],
   "source": [
    "df_kafka_encoded.printSchema()"
   ]
  },
  {
   "cell_type": "markdown",
   "id": "65013f8e-ed45-4695-bfdd-f626434f44e1",
   "metadata": {},
   "source": [
    "# Mahesh Start"
   ]
  },
  {
   "cell_type": "code",
   "execution_count": 7,
   "id": "4cccd68e-925b-4ac2-a66a-362716c9d56f",
   "metadata": {
    "tags": []
   },
   "outputs": [
    {
     "name": "stdout",
     "output_type": "stream",
     "text": [
      "root\n",
      " |-- key: string (nullable = true)\n",
      " |-- value: string (nullable = true)\n",
      " |-- valueStruct: struct (nullable = true)\n",
      " |    |-- name: string (nullable = true)\n",
      " |    |-- address: string (nullable = true)\n",
      " |    |-- created_at: string (nullable = true)\n",
      "\n"
     ]
    }
   ],
   "source": [
    "from pyspark.sql.functions import from_json\n",
    "from pyspark.sql.types import StructType, StructField, StringType\n",
    "\n",
    "structType_schema = StructType(\n",
    "    [StructField(\"name\", StringType()),\n",
    "     StructField('address', StringType()),\n",
    "     StructField('created_at', StringType()),\n",
    "     ])\n",
    "\n",
    "df1 = df_kafka_encoded.withColumn('valueStruct', from_json(df_kafka_encoded.value, structType_schema))\n",
    "\n",
    "df1.printSchema()"
   ]
  },
  {
   "cell_type": "code",
   "execution_count": 8,
   "id": "e0f3f977-fed4-4d47-b843-f401d3adb9bd",
   "metadata": {
    "tags": []
   },
   "outputs": [
    {
     "name": "stdout",
     "output_type": "stream",
     "text": [
      "root\n",
      " |-- key: string (nullable = true)\n",
      " |-- value: string (nullable = true)\n",
      " |-- valueStruct: struct (nullable = true)\n",
      " |    |-- name: string (nullable = true)\n",
      " |    |-- address: string (nullable = true)\n",
      " |    |-- created_at: string (nullable = true)\n",
      " |-- name: string (nullable = true)\n",
      " |-- address: string (nullable = true)\n",
      " |-- created_at: string (nullable = true)\n",
      "\n"
     ]
    }
   ],
   "source": [
    "df2 = df1.withColumn('name',df1['valueStruct']['name']) \\\n",
    "    .withColumn('address', df1['valueStruct']['address'] ) \\\n",
    "    .withColumn('created_at', df1['valueStruct']['created_at'] )\n",
    "df2.printSchema()"
   ]
  },
  {
   "cell_type": "code",
   "execution_count": null,
   "id": "0c34e1c0-ca0b-4f10-a6b2-76cc7d2107ad",
   "metadata": {},
   "outputs": [],
   "source": [
    "# df = df.select(\"col1\",\"col2\",\"col3\").withColumn(\"col4\", df['col1'])"
   ]
  },
  {
   "cell_type": "code",
   "execution_count": 9,
   "id": "a94b0b14-afd5-4d8b-b3a3-fd9799d41f05",
   "metadata": {},
   "outputs": [
    {
     "name": "stdout",
     "output_type": "stream",
     "text": [
      "root\n",
      " |-- name: string (nullable = true)\n",
      " |-- address: string (nullable = true)\n",
      " |-- created_at: string (nullable = true)\n",
      "\n"
     ]
    }
   ],
   "source": [
    "df3 = df2.select(\"name\",\"address\",\"created_at\")\n",
    "\n",
    "df3.printSchema()"
   ]
  },
  {
   "cell_type": "code",
   "execution_count": 10,
   "id": "d48327b5-a3aa-4c3a-a672-d3ae61723759",
   "metadata": {
    "tags": []
   },
   "outputs": [],
   "source": [
    "def sink_console(df, output_mode: str = 'complete', processing_time: str = '4 seconds'):\n",
    "    write_query = df.writeStream \\\n",
    "        .outputMode(output_mode) \\\n",
    "        .trigger(processingTime=processing_time) \\\n",
    "        .format(\"console\") \\\n",
    "        .option(\"truncate\", False) \\\n",
    "        .start()\n",
    "    return write_query # pyspark.sql.streaming.StreamingQuery"
   ]
  },
  {
   "cell_type": "code",
   "execution_count": 11,
   "id": "57106933-718c-4172-a05c-bdb9c1027b9f",
   "metadata": {
    "tags": []
   },
   "outputs": [
    {
     "name": "stdout",
     "output_type": "stream",
     "text": [
      "24/02/21 10:16:11 WARN ResolveWriteToStream: Temporary checkpoint location created which is deleted normally when the query didn't fail: /tmp/temporary-e6201022-f113-4745-b8b4-f3120966024a. If it's required to delete it under any circumstances, please set spark.sql.streaming.forceDeleteTempCheckpointLocation to true. Important to know deleting temp checkpoint folder is best effort.\n",
      "24/02/21 10:16:11 WARN ResolveWriteToStream: spark.sql.adaptive.enabled is not supported in streaming DataFrames/Datasets and will be disabled.\n",
      "24/02/21 10:16:11 WARN NetworkClient: [Consumer clientId=consumer-spark-kafka-source-936e407b-2088-489d-8598-4fa287ce9ae7--1600603854-driver-0-1, groupId=spark-kafka-source-936e407b-2088-489d-8598-4fa287ce9ae7--1600603854-driver-0] Connection to node -1 (localhost/127.0.0.1:9092) could not be established. Broker may not be available.\n",
      "24/02/21 10:16:11 WARN NetworkClient: [Consumer clientId=consumer-spark-kafka-source-936e407b-2088-489d-8598-4fa287ce9ae7--1600603854-driver-0-1, groupId=spark-kafka-source-936e407b-2088-489d-8598-4fa287ce9ae7--1600603854-driver-0] Bootstrap broker localhost:9092 (id: -1 rack: null) disconnected\n"
     ]
    },
    {
     "name": "stderr",
     "output_type": "stream",
     "text": [
      "[Stage 0:>                                                          (0 + 1) / 1]\r"
     ]
    },
    {
     "name": "stdout",
     "output_type": "stream",
     "text": [
      "24/02/21 10:16:13 WARN NetworkClient: [Consumer clientId=consumer-spark-kafka-source-936e407b-2088-489d-8598-4fa287ce9ae7--1600603854-executor-2, groupId=spark-kafka-source-936e407b-2088-489d-8598-4fa287ce9ae7--1600603854-executor] Connection to node -1 (localhost/127.0.0.1:9092) could not be established. Broker may not be available.\n",
      "24/02/21 10:16:13 WARN NetworkClient: [Consumer clientId=consumer-spark-kafka-source-936e407b-2088-489d-8598-4fa287ce9ae7--1600603854-executor-2, groupId=spark-kafka-source-936e407b-2088-489d-8598-4fa287ce9ae7--1600603854-executor] Bootstrap broker localhost:9092 (id: -1 rack: null) disconnected\n"
     ]
    },
    {
     "name": "stderr",
     "output_type": "stream",
     "text": [
      "                                                                                \r"
     ]
    },
    {
     "name": "stdout",
     "output_type": "stream",
     "text": [
      "-------------------------------------------\n",
      "Batch: 0\n",
      "-------------------------------------------\n",
      "+-----------------+--------------------------------------------------+----------+\n",
      "|name             |address                                           |created_at|\n",
      "+-----------------+--------------------------------------------------+----------+\n",
      "|Ian Vega         |279 Justin Mission\\nNew Peter, WI 58432           |2020      |\n",
      "|Laura Ellis      |23476 Susan Overpass Apt. 279\\nJuliestad, CA 10572|2010      |\n",
      "|Edward Bond      |3053 Joe Stream Apt. 031\\nNorth Joshua, PA 66613  |1984      |\n",
      "|Stephanie Jackson|902 Ho Plains Suite 238\\nHarrisside, DE 98796     |1985      |\n",
      "+-----------------+--------------------------------------------------+----------+\n",
      "\n",
      "-------------------------------------------\n",
      "Batch: 1\n",
      "-------------------------------------------\n",
      "+------------------+------------------------------------------------------------+----------+\n",
      "|name              |address                                                     |created_at|\n",
      "+------------------+------------------------------------------------------------+----------+\n",
      "|Christopher Cooley|12231 Brian Overpass Suite 952\\nEast Jenniferville, AL 80222|2002      |\n",
      "+------------------+------------------------------------------------------------+----------+\n",
      "\n",
      "-------------------------------------------\n",
      "Batch: 2\n",
      "-------------------------------------------\n",
      "+-----------+--------------------------------------------+----------+\n",
      "|name       |address                                     |created_at|\n",
      "+-----------+--------------------------------------------+----------+\n",
      "|Regina Lowe|337 Garcia Manors\\nNew Joshuahaven, IL 96666|2004      |\n",
      "+-----------+--------------------------------------------+----------+\n",
      "\n",
      "-------------------------------------------\n",
      "Batch: 3\n",
      "-------------------------------------------\n",
      "+----------------+-------------------------+----------+\n",
      "|name            |address                  |created_at|\n",
      "+----------------+-------------------------+----------+\n",
      "|Hunter Nicholson|USS Escobar\\nFPO AA 43153|2008      |\n",
      "+----------------+-------------------------+----------+\n",
      "\n",
      "-------------------------------------------\n",
      "Batch: 4\n",
      "-------------------------------------------\n",
      "+----------------+-----------------------------------------+----------+\n",
      "|name            |address                                  |created_at|\n",
      "+----------------+-----------------------------------------+----------+\n",
      "|Steven Gallagher|18761 Cooley Dale\\nRobertsburgh, CA 06349|2017      |\n",
      "+----------------+-----------------------------------------+----------+\n",
      "\n",
      "-------------------------------------------\n",
      "Batch: 5\n",
      "-------------------------------------------\n",
      "+--------------+--------------------------------------------------+----------+\n",
      "|name          |address                                           |created_at|\n",
      "+--------------+--------------------------------------------------+----------+\n",
      "|Ronald Roberts|7184 Floyd Corner Apt. 688\\nClaytonville, TX 94732|2013      |\n",
      "+--------------+--------------------------------------------------+----------+\n",
      "\n"
     ]
    }
   ],
   "source": [
    "write_query = sink_console(df3, output_mode='append')"
   ]
  },
  {
   "cell_type": "code",
   "execution_count": 12,
   "id": "1a74d746-438d-4a9c-9afd-5332cbb9a825",
   "metadata": {
    "tags": []
   },
   "outputs": [],
   "source": [
    "write_query.stop()"
   ]
  },
  {
   "cell_type": "markdown",
   "id": "b5f72315-259a-4f6a-b42a-b9d073b983c4",
   "metadata": {},
   "source": [
    "# Mahesh End"
   ]
  },
  {
   "cell_type": "code",
   "execution_count": 7,
   "id": "5696c811-7218-4405-ae30-22ec603820be",
   "metadata": {
    "tags": []
   },
   "outputs": [],
   "source": [
    "#1.3 Structure Streaming DataFrame\n",
    "\n",
    "def parse_ride_from_kafka_message(df_raw, schema):\n",
    "    \"\"\" take a Spark Streaming df and parse value col based on <schema>, return streaming df cols in schema \"\"\"\n",
    "    assert df_raw.isStreaming is True, \"DataFrame doesn't receive streaming data\"\n",
    "\n",
    "    df = df_raw.selectExpr(\"CAST(key AS STRING)\", \"CAST(value AS STRING)\")\n",
    "\n",
    "    # split attributes to nested array in one Column\n",
    "    col = F.split(df['value'], ', ')\n",
    "\n",
    "    # expand col to multiple top-level columns\n",
    "    for idx, field in enumerate(schema):\n",
    "        df = df.withColumn(field.name, col.getItem(idx).cast(field.dataType))\n",
    "    return df.select([field.name for field in schema])"
   ]
  },
  {
   "cell_type": "code",
   "execution_count": 8,
   "id": "36c49418-a8dc-4d6c-8ee1-d48930ee087e",
   "metadata": {
    "tags": []
   },
   "outputs": [],
   "source": [
    "ride_schema = T.StructType(\n",
    "    [T.StructField(\"name\", T.StringType()),\n",
    "     T.StructField('address', T.StringType()),\n",
    "     T.StructField('created_at', T.IntegerType()),\n",
    "     ])"
   ]
  },
  {
   "cell_type": "code",
   "execution_count": 9,
   "id": "175b3ac7-53bc-4f82-aab2-eb8c1ae79742",
   "metadata": {
    "tags": []
   },
   "outputs": [],
   "source": [
    "df_rides = parse_ride_from_kafka_message(df_raw=df_kafka_raw, schema=ride_schema)"
   ]
  },
  {
   "cell_type": "code",
   "execution_count": null,
   "id": "f36b7ff1-f12c-4d48-a045-56e2dd869d0f",
   "metadata": {
    "tags": []
   },
   "outputs": [],
   "source": [
    "df_rides.printSchema()"
   ]
  },
  {
   "cell_type": "markdown",
   "id": "d71d3abd-ecab-4742-abb2-565af9ed575a",
   "metadata": {},
   "source": [
    "# Console Sink"
   ]
  },
  {
   "cell_type": "code",
   "execution_count": 13,
   "id": "9fdae6e1-d9f3-4ce1-a2d4-5c3ffae4cfce",
   "metadata": {
    "tags": []
   },
   "outputs": [],
   "source": [
    "#\n",
    "\n",
    "def sink_console(df, output_mode: str = 'complete', processing_time: str = '4 seconds'):\n",
    "    write_query = df.writeStream \\\n",
    "        .outputMode(output_mode) \\\n",
    "        .trigger(processingTime=processing_time) \\\n",
    "        .format(\"console\") \\\n",
    "        .option(\"truncate\", False) \\\n",
    "        .start()\n",
    "    return write_query # pyspark.sql.streaming.StreamingQuery"
   ]
  },
  {
   "cell_type": "code",
   "execution_count": 14,
   "id": "6def1cdc-b8db-46e2-8aa6-0ae73266bf10",
   "metadata": {
    "tags": []
   },
   "outputs": [
    {
     "name": "stdout",
     "output_type": "stream",
     "text": [
      "24/02/21 07:28:39 WARN ResolveWriteToStream: Temporary checkpoint location created which is deleted normally when the query didn't fail: /tmp/temporary-1205500f-87bb-4ccb-8819-726607c04314. If it's required to delete it under any circumstances, please set spark.sql.streaming.forceDeleteTempCheckpointLocation to true. Important to know deleting temp checkpoint folder is best effort.\n",
      "24/02/21 07:28:39 WARN ResolveWriteToStream: spark.sql.adaptive.enabled is not supported in streaming DataFrames/Datasets and will be disabled.\n",
      "-------------------------------------------\n",
      "Batch: 0\n",
      "-------------------------------------------\n",
      "+----+-------+----------+\n",
      "|name|address|created_at|\n",
      "+----+-------+----------+\n",
      "+----+-------+----------+\n",
      "\n",
      "24/02/21 07:31:30 WARN NetworkClient: [Consumer clientId=consumer-spark-kafka-source-da9e98cb-e5c5-4022-aea6-d3252542ea5f--1044337870-executor-3, groupId=spark-kafka-source-da9e98cb-e5c5-4022-aea6-d3252542ea5f--1044337870-executor] Connection to node -1 (localhost/127.0.0.1:9092) could not be established. Broker may not be available.\n",
      "24/02/21 07:31:30 WARN NetworkClient: [Consumer clientId=consumer-spark-kafka-source-da9e98cb-e5c5-4022-aea6-d3252542ea5f--1044337870-executor-3, groupId=spark-kafka-source-da9e98cb-e5c5-4022-aea6-d3252542ea5f--1044337870-executor] Bootstrap broker localhost:9092 (id: -1 rack: null) disconnected\n"
     ]
    },
    {
     "name": "stderr",
     "output_type": "stream",
     "text": [
      "                                                                                \r"
     ]
    },
    {
     "name": "stdout",
     "output_type": "stream",
     "text": [
      "-------------------------------------------\n",
      "Batch: 2\n",
      "-------------------------------------------\n",
      "+------------------------+-----------------------------------------------+----------+\n",
      "|name                    |address                                        |created_at|\n",
      "+------------------------+-----------------------------------------------+----------+\n",
      "|{\"name\": \"Matthew Lucas\"|\"address\": \"1704 Perkins Harbors\\nSouth Cynthia|null      |\n",
      "+------------------------+-----------------------------------------------+----------+\n",
      "\n",
      "24/02/21 07:31:32 WARN NetworkClient: [Consumer clientId=consumer-spark-kafka-source-d50e44ef-17da-417b-9917-30e313c98ce0-674426846-executor-4, groupId=spark-kafka-source-d50e44ef-17da-417b-9917-30e313c98ce0-674426846-executor] Connection to node -1 (localhost/127.0.0.1:9092) could not be established. Broker may not be available.\n",
      "24/02/21 07:31:32 WARN NetworkClient: [Consumer clientId=consumer-spark-kafka-source-d50e44ef-17da-417b-9917-30e313c98ce0-674426846-executor-4, groupId=spark-kafka-source-d50e44ef-17da-417b-9917-30e313c98ce0-674426846-executor] Bootstrap broker localhost:9092 (id: -1 rack: null) disconnected\n"
     ]
    },
    {
     "name": "stderr",
     "output_type": "stream",
     "text": [
      "                                                                                \r"
     ]
    },
    {
     "name": "stdout",
     "output_type": "stream",
     "text": [
      "-------------------------------------------\n",
      "Batch: 1\n",
      "-------------------------------------------\n",
      "+------------------------+-----------------------------------------------+----------+\n",
      "|name                    |address                                        |created_at|\n",
      "+------------------------+-----------------------------------------------+----------+\n",
      "|{\"name\": \"Matthew Lucas\"|\"address\": \"1704 Perkins Harbors\\nSouth Cynthia|null      |\n",
      "+------------------------+-----------------------------------------------+----------+\n",
      "\n",
      "-------------------------------------------\n",
      "Batch: 3\n",
      "-------------------------------------------\n",
      "+--------------------------+------------------------------------------+----------+\n",
      "|name                      |address                                   |created_at|\n",
      "+--------------------------+------------------------------------------+----------+\n",
      "|{\"name\": \"James Hernandez\"|\"address\": \"465 Nixon Harbors\\nDouglastown|null      |\n",
      "+--------------------------+------------------------------------------+----------+\n",
      "\n",
      "-------------------------------------------\n",
      "Batch: 2\n",
      "-------------------------------------------\n",
      "+--------------------------+------------------------------------------+----------+\n",
      "|name                      |address                                   |created_at|\n",
      "+--------------------------+------------------------------------------+----------+\n",
      "|{\"name\": \"James Hernandez\"|\"address\": \"465 Nixon Harbors\\nDouglastown|null      |\n",
      "+--------------------------+------------------------------------------+----------+\n",
      "\n",
      "-------------------------------------------\n",
      "Batch: 3\n",
      "-------------------------------------------\n",
      "-------------------------------------------\n",
      "Batch: 4\n",
      "-------------------------------------------\n",
      "+----------------------+-------------------------------------------------+----------+\n",
      "|name                  |address                                          |created_at|\n",
      "+----------------------+-------------------------------------------------+----------+\n",
      "|{\"name\": \"Paul Herman\"|\"address\": \"7789 Kristina Unions\\nLake Kevinhaven|null      |\n",
      "+----------------------+-------------------------------------------------+----------+\n",
      "\n",
      "+----------------------+-------------------------------------------------+----------+\n",
      "|name                  |address                                          |created_at|\n",
      "+----------------------+-------------------------------------------------+----------+\n",
      "|{\"name\": \"Paul Herman\"|\"address\": \"7789 Kristina Unions\\nLake Kevinhaven|null      |\n",
      "+----------------------+-------------------------------------------------+----------+\n",
      "\n",
      "-------------------------------------------\n",
      "Batch: 4\n",
      "-------------------------------------------\n",
      "+-----------------------+-------------------------------------------------+----------+\n",
      "|name                   |address                                          |created_at|\n",
      "+-----------------------+-------------------------------------------------+----------+\n",
      "|{\"name\": \"Stanley Lowe\"|\"address\": \"5230 Saunders Throughway\\nSouth Kevin|null      |\n",
      "+-----------------------+-------------------------------------------------+----------+\n",
      "\n",
      "-------------------------------------------\n",
      "Batch: 5\n",
      "-------------------------------------------\n",
      "+-------------------------+-------------------------------------------------------+----------+\n",
      "|name                     |address                                                |created_at|\n",
      "+-------------------------+-------------------------------------------------------+----------+\n",
      "|{\"name\": \"Stanley Lowe\"  |\"address\": \"5230 Saunders Throughway\\nSouth Kevin      |null      |\n",
      "|{\"name\": \"Todd Hernandez\"|\"address\": \"42258 Erin Rest Suite 953\\nSouth Rhondaland|null      |\n",
      "+-------------------------+-------------------------------------------------------+----------+\n",
      "\n",
      "-------------------------------------------\n",
      "Batch: 5\n",
      "-------------------------------------------\n",
      "+-------------------------+-------------------------------------------------------+----------+\n",
      "|name                     |address                                                |created_at|\n",
      "+-------------------------+-------------------------------------------------------+----------+\n",
      "|{\"name\": \"Todd Hernandez\"|\"address\": \"42258 Erin Rest Suite 953\\nSouth Rhondaland|null      |\n",
      "+-------------------------+-------------------------------------------------------+----------+\n",
      "\n",
      "-------------------------------------------\n",
      "Batch: 6\n",
      "-------------------------------------------\n",
      "+--------------------------+-----------------------------------------+----------+\n",
      "|name                      |address                                  |created_at|\n",
      "+--------------------------+-----------------------------------------+----------+\n",
      "|{\"name\": \"Michael Leonard\"|\"address\": \"6249 Garrett Plaza\\nNew Brian|null      |\n",
      "+--------------------------+-----------------------------------------+----------+\n",
      "\n",
      "-------------------------------------------\n",
      "Batch: 6\n",
      "-------------------------------------------\n",
      "+--------------------------+-----------------------------------------+----------+\n",
      "|name                      |address                                  |created_at|\n",
      "+--------------------------+-----------------------------------------+----------+\n",
      "|{\"name\": \"Michael Leonard\"|\"address\": \"6249 Garrett Plaza\\nNew Brian|null      |\n",
      "+--------------------------+-----------------------------------------+----------+\n",
      "\n",
      "-------------------------------------------\n",
      "Batch: 7\n",
      "-------------------------------------------\n",
      "+----------------------+-------------------------------------------------+----------+\n",
      "|name                  |address                                          |created_at|\n",
      "+----------------------+-------------------------------------------------+----------+\n",
      "|{\"name\": \"Bryan Brown\"|\"address\": \"476 Chelsey Loaf Apt. 957\\nNorth Jill|null      |\n",
      "+----------------------+-------------------------------------------------+----------+\n",
      "\n",
      "-------------------------------------------\n",
      "Batch: 7\n",
      "-------------------------------------------\n",
      "+----------------------+-------------------------------------------------+----------+\n",
      "|name                  |address                                          |created_at|\n",
      "+----------------------+-------------------------------------------------+----------+\n",
      "|{\"name\": \"Bryan Brown\"|\"address\": \"476 Chelsey Loaf Apt. 957\\nNorth Jill|null      |\n",
      "+----------------------+-------------------------------------------------+----------+\n",
      "\n",
      "-------------------------------------------\n",
      "Batch: 8\n",
      "-------------------------------------------\n",
      "+---------------------------+---------------------------------------------------+----------+\n",
      "|name                       |address                                            |created_at|\n",
      "+---------------------------+---------------------------------------------------+----------+\n",
      "|{\"name\": \"Carolyn Williams\"|\"address\": \"39782 Heather Pike Suite 186\\nCraigview|null      |\n",
      "+---------------------------+---------------------------------------------------+----------+\n",
      "\n",
      "-------------------------------------------\n",
      "Batch: 8\n",
      "-------------------------------------------\n",
      "+---------------------------+---------------------------------------------------+----------+\n",
      "|name                       |address                                            |created_at|\n",
      "+---------------------------+---------------------------------------------------+----------+\n",
      "|{\"name\": \"Carolyn Williams\"|\"address\": \"39782 Heather Pike Suite 186\\nCraigview|null      |\n",
      "+---------------------------+---------------------------------------------------+----------+\n",
      "\n",
      "-------------------------------------------\n",
      "Batch: 9\n",
      "-------------------------------------------\n",
      "+------------------------+-----------------------------------------------------------+----------+\n",
      "|name                    |address                                                    |created_at|\n",
      "+------------------------+-----------------------------------------------------------+----------+\n",
      "|{\"name\": \"Dennis Keller\"|\"address\": \"16113 Walters Unions Suite 794\\nNew Stevenmouth|null      |\n",
      "+------------------------+-----------------------------------------------------------+----------+\n",
      "\n",
      "-------------------------------------------\n",
      "Batch: 9\n",
      "-------------------------------------------\n",
      "+------------------------+-----------------------------------------------------------+----------+\n",
      "|name                    |address                                                    |created_at|\n",
      "+------------------------+-----------------------------------------------------------+----------+\n",
      "|{\"name\": \"Dennis Keller\"|\"address\": \"16113 Walters Unions Suite 794\\nNew Stevenmouth|null      |\n",
      "|{\"name\": \"Jessica Hart\" |\"address\": \"42055 Calhoun Vista\\nNew Anthony               |null      |\n",
      "+------------------------+-----------------------------------------------------------+----------+\n",
      "\n",
      "-------------------------------------------\n",
      "Batch: 10\n",
      "-------------------------------------------\n",
      "+-----------------------+--------------------------------------------+----------+\n",
      "|name                   |address                                     |created_at|\n",
      "+-----------------------+--------------------------------------------+----------+\n",
      "|{\"name\": \"Jessica Hart\"|\"address\": \"42055 Calhoun Vista\\nNew Anthony|null      |\n",
      "+-----------------------+--------------------------------------------+----------+\n",
      "\n",
      "-------------------------------------------\n",
      "Batch: 10\n",
      "-------------------------------------------\n",
      "+--------------------------+-----------------------------------------------------+----------+\n",
      "|name                      |address                                              |created_at|\n",
      "+--------------------------+-----------------------------------------------------+----------+\n",
      "|{\"name\": \"Catherine Smith\"|\"address\": \"86886 Herrera Gateway Suite 909\\nNew Kyle|null      |\n",
      "+--------------------------+-----------------------------------------------------+----------+\n",
      "\n",
      "-------------------------------------------\n",
      "Batch: 11\n",
      "-------------------------------------------\n",
      "+--------------------------+-----------------------------------------------------+----------+\n",
      "|name                      |address                                              |created_at|\n",
      "+--------------------------+-----------------------------------------------------+----------+\n",
      "|{\"name\": \"Catherine Smith\"|\"address\": \"86886 Herrera Gateway Suite 909\\nNew Kyle|null      |\n",
      "+--------------------------+-----------------------------------------------------+----------+\n",
      "\n"
     ]
    }
   ],
   "source": [
    "write_query = sink_console(df_rides, output_mode='append')"
   ]
  },
  {
   "cell_type": "code",
   "execution_count": 15,
   "id": "db9f9133-9923-4ae2-a6c8-5d0db935837a",
   "metadata": {
    "tags": []
   },
   "outputs": [],
   "source": [
    "write_query.stop()"
   ]
  },
  {
   "cell_type": "markdown",
   "id": "811521ef-5710-48a8-99c6-3b79d6ce345d",
   "metadata": {},
   "source": [
    "# Memory Sink"
   ]
  },
  {
   "cell_type": "code",
   "execution_count": 16,
   "id": "64516473-3e90-4b28-b825-11e89326a972",
   "metadata": {
    "tags": []
   },
   "outputs": [],
   "source": [
    "def sink_memory(df, query_name, query_template):\n",
    "    write_query = df \\\n",
    "        .writeStream \\\n",
    "        .queryName(query_name) \\\n",
    "        .format('memory') \\\n",
    "        .start()\n",
    "    query_str = query_template.format(table_name=query_name)\n",
    "    query_results = spark.sql(query_str)\n",
    "    return write_query, query_results"
   ]
  },
  {
   "cell_type": "code",
   "execution_count": 17,
   "id": "83a1d720-cad4-4410-9be4-629132255cd8",
   "metadata": {
    "tags": []
   },
   "outputs": [
    {
     "name": "stdout",
     "output_type": "stream",
     "text": [
      "24/02/21 07:40:35 WARN ResolveWriteToStream: Temporary checkpoint location created which is deleted normally when the query didn't fail: /tmp/temporary-44514cc4-9af4-498e-ba02-a4388623937e. If it's required to delete it under any circumstances, please set spark.sql.streaming.forceDeleteTempCheckpointLocation to true. Important to know deleting temp checkpoint folder is best effort.\n",
      "24/02/21 07:40:35 WARN ResolveWriteToStream: spark.sql.adaptive.enabled is not supported in streaming DataFrames/Datasets and will be disabled.\n",
      "24/02/21 07:40:35 WARN NetworkClient: [Consumer clientId=consumer-spark-kafka-source-233305f2-07a1-42e7-bc2b-f04ff4436f33--1250756507-driver-0-5, groupId=spark-kafka-source-233305f2-07a1-42e7-bc2b-f04ff4436f33--1250756507-driver-0] Connection to node -1 (localhost/127.0.0.1:9092) could not be established. Broker may not be available.\n",
      "24/02/21 07:40:35 WARN NetworkClient: [Consumer clientId=consumer-spark-kafka-source-233305f2-07a1-42e7-bc2b-f04ff4436f33--1250756507-driver-0-5, groupId=spark-kafka-source-233305f2-07a1-42e7-bc2b-f04ff4436f33--1250756507-driver-0] Bootstrap broker localhost:9092 (id: -1 rack: null) disconnected\n",
      "24/02/21 07:40:36 WARN NetworkClient: [Consumer clientId=consumer-spark-kafka-source-233305f2-07a1-42e7-bc2b-f04ff4436f33--1250756507-executor-6, groupId=spark-kafka-source-233305f2-07a1-42e7-bc2b-f04ff4436f33--1250756507-executor] Connection to node -1 (localhost/127.0.0.1:9092) could not be established. Broker may not be available.\n",
      "24/02/21 07:40:36 WARN NetworkClient: [Consumer clientId=consumer-spark-kafka-source-233305f2-07a1-42e7-bc2b-f04ff4436f33--1250756507-executor-6, groupId=spark-kafka-source-233305f2-07a1-42e7-bc2b-f04ff4436f33--1250756507-executor] Bootstrap broker localhost:9092 (id: -1 rack: null) disconnected\n"
     ]
    },
    {
     "name": "stderr",
     "output_type": "stream",
     "text": [
      "                                                                                \r"
     ]
    },
    {
     "name": "stdout",
     "output_type": "stream",
     "text": [
      "-------------------------------------------\n",
      "Batch: 11\n",
      "-------------------------------------------\n",
      "+------------------+-----------------------------------------------------------+----------+\n",
      "|name              |address                                                    |created_at|\n",
      "+------------------+-----------------------------------------------------------+----------+\n",
      "|{\"name\": \"Don Lam\"|\"address\": \"368 Monica Islands Suite 414\\nNorth Sandramouth|null      |\n",
      "+------------------+-----------------------------------------------------------+----------+\n",
      "\n",
      "-------------------------------------------\n",
      "Batch: 12\n",
      "-------------------------------------------\n",
      "+-------------------------------+--------------------------------------------------------+----------+\n",
      "|name                           |address                                                 |created_at|\n",
      "+-------------------------------+--------------------------------------------------------+----------+\n",
      "|{\"name\": \"Cameron Carrillo\"    |\"address\": \"351 Veronica Passage Apt. 801\\nEast Mitchell|null      |\n",
      "|{\"name\": \"Brian Stephenson Jr.\"|\"address\": \"78181 Smith Ways Apt. 106\\nColonview        |null      |\n",
      "+-------------------------------+--------------------------------------------------------+----------+\n",
      "\n"
     ]
    },
    {
     "name": "stderr",
     "output_type": "stream",
     "text": [
      "                                                                                \r"
     ]
    },
    {
     "name": "stdout",
     "output_type": "stream",
     "text": [
      "-------------------------------------------\n",
      "Batch: 13\n",
      "-------------------------------------------\n",
      "+---------------------+--------------------------------------------------------+----------+\n",
      "|name                 |address                                                 |created_at|\n",
      "+---------------------+--------------------------------------------------------+----------+\n",
      "|{\"name\": \"Brian Long\"|\"address\": \"14389 Patterson Way Apt. 808\\nWest Christina|null      |\n",
      "+---------------------+--------------------------------------------------------+----------+\n",
      "\n"
     ]
    },
    {
     "name": "stderr",
     "output_type": "stream",
     "text": [
      "                                                                                \r"
     ]
    },
    {
     "name": "stdout",
     "output_type": "stream",
     "text": [
      "-------------------------------------------\n",
      "Batch: 14\n",
      "-------------------------------------------\n",
      "+---------------------+--------------------------------------------------------+----------+\n",
      "|name                 |address                                                 |created_at|\n",
      "+---------------------+--------------------------------------------------------+----------+\n",
      "|{\"name\": \"Eric Foley\"|\"address\": \"6687 Pamela Inlet Suite 121\\nNew Jordanshire|null      |\n",
      "+---------------------+--------------------------------------------------------+----------+\n",
      "\n",
      "-------------------------------------------\n",
      "Batch: 15\n",
      "-------------------------------------------\n",
      "+----------------------+-------------------------------------------+----------+\n",
      "|name                  |address                                    |created_at|\n",
      "+----------------------+-------------------------------------------+----------+\n",
      "|{\"name\": \"Kari Burton\"|\"address\": \"3623 Castro Turnpike\\nWeissport|null      |\n",
      "+----------------------+-------------------------------------------+----------+\n",
      "\n"
     ]
    },
    {
     "name": "stderr",
     "output_type": "stream",
     "text": [
      "                                                                                \r"
     ]
    },
    {
     "name": "stdout",
     "output_type": "stream",
     "text": [
      "-------------------------------------------\n",
      "Batch: 16\n",
      "-------------------------------------------\n",
      "+---------------------------+--------------------------------------------+----------+\n",
      "|name                       |address                                     |created_at|\n",
      "+---------------------------+--------------------------------------------+----------+\n",
      "|{\"name\": \"Emily Macdonald\" |\"address\": \"0799 David Gardens\\nMartinezfort|null      |\n",
      "|{\"name\": \"Katherine Vargas\"|\"address\": \"USNV Norris\\nFPO AE 11185\"      |null      |\n",
      "+---------------------------+--------------------------------------------+----------+\n",
      "\n"
     ]
    }
   ],
   "source": [
    "query_name = 'name_counts'\n",
    "query_template = 'select count(distinct(name)) from {table_name}'\n",
    "write_query, df_vendor_id_counts = sink_memory(df=df_rides, query_name=query_name, query_template=query_template)"
   ]
  },
  {
   "cell_type": "code",
   "execution_count": null,
   "id": "547b0b2d-6c43-4ca5-951c-f99d347a0c13",
   "metadata": {
    "tags": []
   },
   "outputs": [],
   "source": [
    "write_query.stop()"
   ]
  },
  {
   "cell_type": "code",
   "execution_count": null,
   "id": "43ab2a69-9e02-4d7e-b353-50103cfa2fc3",
   "metadata": {},
   "outputs": [],
   "source": []
  }
 ],
 "metadata": {
  "kernelspec": {
   "display_name": "Python 3 (ipykernel)",
   "language": "python",
   "name": "python3"
  },
  "language_info": {
   "codemirror_mode": {
    "name": "ipython",
    "version": 3
   },
   "file_extension": ".py",
   "mimetype": "text/x-python",
   "name": "python",
   "nbconvert_exporter": "python",
   "pygments_lexer": "ipython3",
   "version": "3.10.12"
  }
 },
 "nbformat": 4,
 "nbformat_minor": 5
}
